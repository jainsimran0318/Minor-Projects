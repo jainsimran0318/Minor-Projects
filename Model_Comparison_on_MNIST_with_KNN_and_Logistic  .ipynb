{
 "cells": [
  {
   "cell_type": "markdown",
   "metadata": {},
   "source": [
    "# K-Nearest Neighbour"
   ]
  },
  {
   "cell_type": "markdown",
   "metadata": {},
   "source": [
    "# #KNN with Iris Dataset"
   ]
  },
  {
   "cell_type": "code",
   "execution_count": 1,
   "metadata": {},
   "outputs": [],
   "source": [
    "from sklearn.datasets import load_iris\n",
    "x, y = load_iris().data, load_iris().target"
   ]
  },
  {
   "cell_type": "code",
   "execution_count": 2,
   "metadata": {},
   "outputs": [
    {
     "data": {
      "text/plain": [
       "['sepal length (cm)',\n",
       " 'sepal width (cm)',\n",
       " 'petal length (cm)',\n",
       " 'petal width (cm)']"
      ]
     },
     "execution_count": 2,
     "metadata": {},
     "output_type": "execute_result"
    }
   ],
   "source": [
    "load_iris().feature_names"
   ]
  },
  {
   "cell_type": "code",
   "execution_count": 3,
   "metadata": {},
   "outputs": [
    {
     "data": {
      "text/plain": [
       "((150, 4), (150,))"
      ]
     },
     "execution_count": 3,
     "metadata": {},
     "output_type": "execute_result"
    }
   ],
   "source": [
    "x.shape, y.shape"
   ]
  },
  {
   "cell_type": "code",
   "execution_count": 4,
   "metadata": {},
   "outputs": [
    {
     "data": {
      "text/plain": [
       "array([0, 0, 0, 0, 0, 0, 0, 0, 0, 0, 0, 0, 0, 0, 0, 0, 0, 0, 0, 0, 0, 0,\n",
       "       0, 0, 0, 0, 0, 0, 0, 0, 0, 0, 0, 0, 0, 0, 0, 0, 0, 0, 0, 0, 0, 0,\n",
       "       0, 0, 0, 0, 0, 0, 1, 1, 1, 1, 1, 1, 1, 1, 1, 1, 1, 1, 1, 1, 1, 1,\n",
       "       1, 1, 1, 1, 1, 1, 1, 1, 1, 1, 1, 1, 1, 1, 1, 1, 1, 1, 1, 1, 1, 1,\n",
       "       1, 1, 1, 1, 1, 1, 1, 1, 1, 1, 1, 1, 2, 2, 2, 2, 2, 2, 2, 2, 2, 2,\n",
       "       2, 2, 2, 2, 2, 2, 2, 2, 2, 2, 2, 2, 2, 2, 2, 2, 2, 2, 2, 2, 2, 2,\n",
       "       2, 2, 2, 2, 2, 2, 2, 2, 2, 2, 2, 2, 2, 2, 2, 2, 2, 2])"
      ]
     },
     "execution_count": 4,
     "metadata": {},
     "output_type": "execute_result"
    }
   ],
   "source": [
    "y"
   ]
  },
  {
   "cell_type": "code",
   "execution_count": 5,
   "metadata": {},
   "outputs": [
    {
     "data": {
      "text/plain": [
       "array([5.1, 3.5, 1.4, 0.2])"
      ]
     },
     "execution_count": 5,
     "metadata": {},
     "output_type": "execute_result"
    }
   ],
   "source": [
    "x[0]"
   ]
  },
  {
   "cell_type": "code",
   "execution_count": 6,
   "metadata": {},
   "outputs": [],
   "source": [
    "import matplotlib.pyplot as plt"
   ]
  },
  {
   "cell_type": "code",
   "execution_count": 7,
   "metadata": {},
   "outputs": [
    {
     "data": {
      "text/plain": [
       "<matplotlib.collections.PathCollection at 0x229cbc10d90>"
      ]
     },
     "execution_count": 7,
     "metadata": {},
     "output_type": "execute_result"
    },
    {
     "data": {
      "image/png": "[encoded data removed]",
      "text/plain": [
       "<Figure size 432x288 with 1 Axes>"
      ]
     },
     "metadata": {
      "needs_background": "light"
     },
     "output_type": "display_data"
    }
   ],
   "source": [
    "setosa = x[ y == 0 ]\n",
    "versicolor = x[ y == 1 ]\n",
    "virginica = x[ y == 2 ]\n",
    "\n",
    "plt.scatter(setosa[:,0], setosa[:,2])\n",
    "plt.scatter(versicolor[:,0], versicolor[:,2])\n",
    "plt.scatter(virginica[:,0], virginica[:,2])"
   ]
  },
  {
   "cell_type": "code",
   "execution_count": 8,
   "metadata": {},
   "outputs": [
    {
     "data": {
      "text/plain": [
       "<matplotlib.collections.PathCollection at 0x229cbcd1550>"
      ]
     },
     "execution_count": 8,
     "metadata": {},
     "output_type": "execute_result"
    },
    {
     "data": {
      "image/png": "[encoded data removed]",
      "text/plain": [
       "<Figure size 432x288 with 1 Axes>"
      ]
     },
     "metadata": {
      "needs_background": "light"
     },
     "output_type": "display_data"
    }
   ],
   "source": [
    "plt.scatter(setosa[:,0], setosa[:,3])\n",
    "plt.scatter(versicolor[:,0], versicolor[:,3])\n",
    "plt.scatter(virginica[:,0], virginica[:,3])"
   ]
  },
  {
   "cell_type": "markdown",
   "metadata": {},
   "source": [
    "# Train test Split of data"
   ]
  },
  {
   "cell_type": "code",
   "execution_count": 9,
   "metadata": {},
   "outputs": [],
   "source": [
    "from sklearn.model_selection import train_test_split\n",
    "x_train, x_test, y_train, y_test = train_test_split(x, y, test_size=.33)"
   ]
  },
  {
   "cell_type": "code",
   "execution_count": 10,
   "metadata": {},
   "outputs": [
    {
     "name": "stdout",
     "output_type": "stream",
     "text": [
      "(100, 4)\n",
      "(50, 4)\n",
      "(100,)\n",
      "(50,)\n"
     ]
    }
   ],
   "source": [
    "for i in(x_train, x_test, y_train, y_test):\n",
    "    print(i.shape)"
   ]
  },
  {
   "cell_type": "markdown",
   "metadata": {},
   "source": [
    "# Import KNN"
   ]
  },
  {
   "cell_type": "code",
   "execution_count": 11,
   "metadata": {},
   "outputs": [],
   "source": [
    "from sklearn.neighbors import KNeighborsClassifier\n",
    "knn_model = KNeighborsClassifier( n_neighbors=5 )"
   ]
  },
  {
   "cell_type": "markdown",
   "metadata": {},
   "source": [
    "# Fitting or Training our model with Training dataset"
   ]
  },
  {
   "cell_type": "code",
   "execution_count": 12,
   "metadata": {},
   "outputs": [
    {
     "data": {
      "text/plain": [
       "KNeighborsClassifier()"
      ]
     },
     "execution_count": 12,
     "metadata": {},
     "output_type": "execute_result"
    }
   ],
   "source": [
    "knn_model.fit(x_train, y_train)"
   ]
  },
  {
   "cell_type": "code",
   "execution_count": 13,
   "metadata": {},
   "outputs": [
    {
     "data": {
      "text/plain": [
       "array([0, 1, 2, 2, 0, 1, 0, 2, 2, 0])"
      ]
     },
     "execution_count": 13,
     "metadata": {},
     "output_type": "execute_result"
    }
   ],
   "source": [
    "knn_model.predict(x_test[:10])"
   ]
  },
  {
   "cell_type": "code",
   "execution_count": 14,
   "metadata": {},
   "outputs": [
    {
     "data": {
      "text/plain": [
       "array([0, 2, 1, 2, 0, 1, 0, 2, 2, 0])"
      ]
     },
     "execution_count": 14,
     "metadata": {},
     "output_type": "execute_result"
    }
   ],
   "source": [
    "y_test[:10]"
   ]
  },
  {
   "cell_type": "code",
   "execution_count": 15,
   "metadata": {},
   "outputs": [
    {
     "data": {
      "text/plain": [
       "array([0, 0, 2, 1, 2, 0, 0, 1, 2, 0, 2, 0, 1, 1, 2, 2, 0, 2, 0, 0, 2, 2,\n",
       "       0, 0, 1, 0, 1, 0, 2, 2])"
      ]
     },
     "execution_count": 15,
     "metadata": {},
     "output_type": "execute_result"
    }
   ],
   "source": [
    "knn_model.predict(x_test[10:40])"
   ]
  },
  {
   "cell_type": "code",
   "execution_count": 16,
   "metadata": {},
   "outputs": [
    {
     "data": {
      "text/plain": [
       "array([0, 0, 2, 1, 2, 0, 0, 1, 2, 0, 2, 0, 1, 2, 2, 2, 0, 2, 0, 0, 2, 2,\n",
       "       0, 0, 1, 0, 1, 0, 2, 2])"
      ]
     },
     "execution_count": 16,
     "metadata": {},
     "output_type": "execute_result"
    }
   ],
   "source": [
    "y_test[10:40]"
   ]
  },
  {
   "cell_type": "code",
   "execution_count": 17,
   "metadata": {},
   "outputs": [
    {
     "name": "stdout",
     "output_type": "stream",
     "text": [
      "Percentage error is :  94.0\n"
     ]
    }
   ],
   "source": [
    "predicted = knn_model.predict(x_test)\n",
    "actual = y_test\n",
    "\n",
    "count = 0\n",
    "for i,j in zip(predicted, actual):\n",
    "    \n",
    "    if i == j :\n",
    "        count = count + 1\n",
    "        \n",
    "print(\"Percentage error is : \",( count/len(actual) )*100 )"
   ]
  },
  {
   "cell_type": "code",
   "execution_count": 18,
   "metadata": {},
   "outputs": [
    {
     "data": {
      "text/plain": [
       "0.94"
      ]
     },
     "execution_count": 18,
     "metadata": {},
     "output_type": "execute_result"
    }
   ],
   "source": [
    "knn_model.score(x_test, y_test)"
   ]
  },
  {
   "cell_type": "code",
   "execution_count": 19,
   "metadata": {},
   "outputs": [
    {
     "data": {
      "text/plain": [
       "1.0"
      ]
     },
     "execution_count": 19,
     "metadata": {},
     "output_type": "execute_result"
    }
   ],
   "source": [
    "knn_model.score(x_train, y_train)"
   ]
  },
  {
   "cell_type": "code",
   "execution_count": 20,
   "metadata": {},
   "outputs": [
    {
     "data": {
      "text/plain": [
       "['__abstractmethods__',\n",
       " '__class__',\n",
       " '__delattr__',\n",
       " '__dict__',\n",
       " '__dir__',\n",
       " '__doc__',\n",
       " '__eq__',\n",
       " '__format__',\n",
       " '__ge__',\n",
       " '__getattribute__',\n",
       " '__getstate__',\n",
       " '__gt__',\n",
       " '__hash__',\n",
       " '__init__',\n",
       " '__init_subclass__',\n",
       " '__le__',\n",
       " '__lt__',\n",
       " '__module__',\n",
       " '__ne__',\n",
       " '__new__',\n",
       " '__reduce__',\n",
       " '__reduce_ex__',\n",
       " '__repr__',\n",
       " '__setattr__',\n",
       " '__setstate__',\n",
       " '__sizeof__',\n",
       " '__str__',\n",
       " '__subclasshook__',\n",
       " '__weakref__',\n",
       " '_abc_impl',\n",
       " '_check_algorithm_metric',\n",
       " '_check_n_features',\n",
       " '_estimator_type',\n",
       " '_fit',\n",
       " '_fit_X',\n",
       " '_fit_method',\n",
       " '_get_param_names',\n",
       " '_get_tags',\n",
       " '_kneighbors_reduce_func',\n",
       " '_more_tags',\n",
       " '_pairwise',\n",
       " '_repr_html_',\n",
       " '_repr_html_inner',\n",
       " '_repr_mimebundle_',\n",
       " '_tree',\n",
       " '_validate_data',\n",
       " '_y',\n",
       " 'algorithm',\n",
       " 'classes_',\n",
       " 'effective_metric_',\n",
       " 'effective_metric_params_',\n",
       " 'fit',\n",
       " 'get_params',\n",
       " 'kneighbors',\n",
       " 'kneighbors_graph',\n",
       " 'leaf_size',\n",
       " 'metric',\n",
       " 'metric_params',\n",
       " 'n_features_in_',\n",
       " 'n_jobs',\n",
       " 'n_neighbors',\n",
       " 'n_samples_fit_',\n",
       " 'outputs_2d_',\n",
       " 'p',\n",
       " 'predict',\n",
       " 'predict_proba',\n",
       " 'radius',\n",
       " 'score',\n",
       " 'set_params',\n",
       " 'weights']"
      ]
     },
     "execution_count": 20,
     "metadata": {},
     "output_type": "execute_result"
    }
   ],
   "source": [
    "dir(knn_model)"
   ]
  },
  {
   "cell_type": "code",
   "execution_count": null,
   "metadata": {},
   "outputs": [],
   "source": []
  },
  {
   "cell_type": "markdown",
   "metadata": {},
   "source": [
    "# Logistic Regression v/s KNN"
   ]
  },
  {
   "cell_type": "code",
   "execution_count": 21,
   "metadata": {},
   "outputs": [],
   "source": [
    "from sklearn.datasets import load_digits"
   ]
  },
  {
   "cell_type": "code",
   "execution_count": 22,
   "metadata": {},
   "outputs": [],
   "source": [
    "x = load_digits().data\n",
    "y = load_digits().target"
   ]
  },
  {
   "cell_type": "code",
   "execution_count": 23,
   "metadata": {},
   "outputs": [
    {
     "data": {
      "text/plain": [
       "((1797, 64), (1797,))"
      ]
     },
     "execution_count": 23,
     "metadata": {},
     "output_type": "execute_result"
    }
   ],
   "source": [
    "x.shape, y.shape"
   ]
  },
  {
   "cell_type": "code",
   "execution_count": 24,
   "metadata": {},
   "outputs": [],
   "source": [
    "from sklearn.metrics import confusion_matrix"
   ]
  },
  {
   "cell_type": "code",
   "execution_count": 25,
   "metadata": {},
   "outputs": [],
   "source": [
    "import numpy as np\n",
    "import matplotlib.pyplot as plt"
   ]
  },
  {
   "cell_type": "code",
   "execution_count": 26,
   "metadata": {},
   "outputs": [],
   "source": [
    "x = np.random.normal(size = 300)\n",
    "\n",
    "x_new = x.reshape(300, -1)\n",
    "new_data = np.concatenate((x_new, x_new**2), axis = 1)\n",
    "\n",
    "y = -x**2 + np.random.normal(0, .3, size = 300)"
   ]
  },
  {
   "cell_type": "code",
   "execution_count": 27,
   "metadata": {},
   "outputs": [
    {
     "data": {
      "text/plain": [
       "<matplotlib.collections.PathCollection at 0x229cc07d4c0>"
      ]
     },
     "execution_count": 27,
     "metadata": {},
     "output_type": "execute_result"
    },
    {
     "data": {
      "image/png": "[encoded data removed]",
      "text/plain": [
       "<Figure size 432x288 with 1 Axes>"
      ]
     },
     "metadata": {
      "needs_background": "light"
     },
     "output_type": "display_data"
    }
   ],
   "source": [
    "plt.scatter(x.reshape(300), y)"
   ]
  },
  {
   "cell_type": "code",
   "execution_count": 28,
   "metadata": {},
   "outputs": [],
   "source": [
    "from sklearn.linear_model import LinearRegression\n",
    "model = LinearRegression()"
   ]
  },
  {
   "cell_type": "code",
   "execution_count": 29,
   "metadata": {},
   "outputs": [
    {
     "data": {
      "text/plain": [
       "LinearRegression()"
      ]
     },
     "execution_count": 29,
     "metadata": {},
     "output_type": "execute_result"
    }
   ],
   "source": [
    "model.fit(new_data, y)"
   ]
  },
  {
   "cell_type": "code",
   "execution_count": 30,
   "metadata": {},
   "outputs": [
    {
     "data": {
      "text/plain": [
       "<matplotlib.collections.PathCollection at 0x229cd2e9850>"
      ]
     },
     "execution_count": 30,
     "metadata": {},
     "output_type": "execute_result"
    },
    {
     "data": {
      "image/png": "[encoded data removed]",
      "text/plain": [
       "<Figure size 432x288 with 1 Axes>"
      ]
     },
     "metadata": {
      "needs_background": "light"
     },
     "output_type": "display_data"
    }
   ],
   "source": [
    "predicted_values = model.predict(new_data)\n",
    "\n",
    "plt.scatter(x, y)\n",
    "plt.scatter(x, predicted_values)"
   ]
  },
  {
   "cell_type": "code",
   "execution_count": 31,
   "metadata": {},
   "outputs": [
    {
     "data": {
      "text/plain": [
       "<matplotlib.collections.PathCollection at 0x229cd19b640>"
      ]
     },
     "execution_count": 31,
     "metadata": {},
     "output_type": "execute_result"
    },
    {
     "data": {
      "image/png": "[encoded data removed]",
      "text/plain": [
       "<Figure size 432x288 with 1 Axes>"
      ]
     },
     "metadata": {
      "needs_background": "light"
     },
     "output_type": "display_data"
    }
   ],
   "source": [
    "plt.scatter(x**2, y)"
   ]
  },
  {
   "cell_type": "code",
   "execution_count": 32,
   "metadata": {},
   "outputs": [
    {
     "data": {
      "text/plain": [
       "array([-0.03320877, -1.01836252])"
      ]
     },
     "execution_count": 32,
     "metadata": {},
     "output_type": "execute_result"
    }
   ],
   "source": [
    "model.coef_"
   ]
  },
  {
   "cell_type": "code",
   "execution_count": 33,
   "metadata": {},
   "outputs": [
    {
     "data": {
      "text/plain": [
       "array([[-7.18431280e-01,  5.16143504e-01],\n",
       "       [-6.78344551e-01,  4.60151329e-01],\n",
       "       [-1.22631878e+00,  1.50385776e+00],\n",
       "       [ 5.93882452e-01,  3.52696366e-01],\n",
       "       [ 7.57957122e-01,  5.74498999e-01],\n",
       "       [ 2.03320458e+00,  4.13392085e+00],\n",
       "       [-7.01197816e-01,  4.91678377e-01],\n",
       "       [ 3.31308574e-01,  1.09765371e-01],\n",
       "       [ 4.42613089e-01,  1.95906346e-01],\n",
       "       [-4.53092298e-01,  2.05292630e-01],\n",
       "       [ 1.32976811e+00,  1.76828322e+00],\n",
       "       [ 8.99361551e-02,  8.08851199e-03],\n",
       "       [ 6.42338789e-01,  4.12599120e-01],\n",
       "       [ 5.46971165e-01,  2.99177455e-01],\n",
       "       [-7.60280462e-01,  5.78026381e-01],\n",
       "       [-5.51754214e-01,  3.04432712e-01],\n",
       "       [-3.66748071e-01,  1.34504147e-01],\n",
       "       [-2.26792487e-01,  5.14348321e-02],\n",
       "       [-9.31409289e-01,  8.67523263e-01],\n",
       "       [-5.27752247e-01,  2.78522434e-01],\n",
       "       [ 2.05714936e+00,  4.23186348e+00],\n",
       "       [-9.58518275e-01,  9.18757284e-01],\n",
       "       [-2.30330752e+00,  5.30522552e+00],\n",
       "       [-8.49302951e-01,  7.21315503e-01],\n",
       "       [ 8.27888528e-01,  6.85399415e-01],\n",
       "       [ 1.14756908e+00,  1.31691480e+00],\n",
       "       [-4.57524624e-01,  2.09328781e-01],\n",
       "       [ 1.09717314e+00,  1.20378890e+00],\n",
       "       [ 1.84719963e+00,  3.41214647e+00],\n",
       "       [-9.77102906e-01,  9.54730089e-01],\n",
       "       [ 5.16454102e-02,  2.66724839e-03],\n",
       "       [-5.46977418e-01,  2.99184295e-01],\n",
       "       [ 1.52321426e-01,  2.32018167e-02],\n",
       "       [-7.28181204e-01,  5.30247866e-01],\n",
       "       [ 1.37402044e+00,  1.88793218e+00],\n",
       "       [-7.34389609e-02,  5.39328097e-03],\n",
       "       [ 1.09384870e+00,  1.19650497e+00],\n",
       "       [ 5.34966382e-01,  2.86189030e-01],\n",
       "       [ 6.02545138e-01,  3.63060643e-01],\n",
       "       [ 3.02421038e-01,  9.14584843e-02],\n",
       "       [-1.18451718e+00,  1.40308095e+00],\n",
       "       [-1.42413049e-01,  2.02814766e-02],\n",
       "       [ 2.96200767e-01,  8.77348945e-02],\n",
       "       [-5.43230772e-02,  2.95099672e-03],\n",
       "       [-2.98412820e-01,  8.90502112e-02],\n",
       "       [ 2.57257637e-01,  6.61814920e-02],\n",
       "       [-5.37918927e-02,  2.89356772e-03],\n",
       "       [ 1.37622997e+00,  1.89400894e+00],\n",
       "       [-7.44027523e-02,  5.53576955e-03],\n",
       "       [-1.16596037e+00,  1.35946359e+00],\n",
       "       [ 6.90881075e-01,  4.77316660e-01],\n",
       "       [-4.44425215e-01,  1.97513772e-01],\n",
       "       [ 4.50658647e-01,  2.03093216e-01],\n",
       "       [-1.18772884e+00,  1.41069980e+00],\n",
       "       [ 2.40857397e-01,  5.80122858e-02],\n",
       "       [ 1.20016440e+00,  1.44039458e+00],\n",
       "       [-1.59191444e+00,  2.53419158e+00],\n",
       "       [-1.12085217e-01,  1.25630958e-02],\n",
       "       [ 6.79180842e-01,  4.61286616e-01],\n",
       "       [-1.20694279e+00,  1.45671089e+00],\n",
       "       [-2.39204537e-02,  5.72188107e-04],\n",
       "       [ 2.83010898e+00,  8.00951685e+00],\n",
       "       [-7.48201954e-01,  5.59806164e-01],\n",
       "       [ 6.46722657e-02,  4.18250195e-03],\n",
       "       [ 3.51741238e-01,  1.23721899e-01],\n",
       "       [ 9.75726309e-01,  9.52041831e-01],\n",
       "       [ 6.28879407e-01,  3.95489308e-01],\n",
       "       [-1.22602372e+00,  1.50313416e+00],\n",
       "       [-8.11020139e-01,  6.57753666e-01],\n",
       "       [-1.49732167e+00,  2.24197219e+00],\n",
       "       [-4.58514603e-01,  2.10235641e-01],\n",
       "       [-1.82141799e-01,  3.31756348e-02],\n",
       "       [-2.31651070e+00,  5.36622183e+00],\n",
       "       [ 3.10273124e-01,  9.62694114e-02],\n",
       "       [ 1.84536786e+00,  3.40538252e+00],\n",
       "       [-7.27613009e-01,  5.29420691e-01],\n",
       "       [-2.69971216e-01,  7.28844576e-02],\n",
       "       [-7.37920695e-01,  5.44526952e-01],\n",
       "       [-9.42046994e-01,  8.87452539e-01],\n",
       "       [-2.70388924e+00,  7.31101704e+00],\n",
       "       [ 1.19273692e+00,  1.42262137e+00],\n",
       "       [ 5.54143810e-01,  3.07075362e-01],\n",
       "       [ 2.30591980e-01,  5.31726614e-02],\n",
       "       [-1.17619564e+00,  1.38343618e+00],\n",
       "       [ 1.46549596e+00,  2.14767841e+00],\n",
       "       [-1.15376852e+00,  1.33118180e+00],\n",
       "       [-4.58253817e-01,  2.09996561e-01],\n",
       "       [-5.56455249e-01,  3.09642444e-01],\n",
       "       [ 3.05194428e-01,  9.31436388e-02],\n",
       "       [ 3.10758142e-01,  9.65706231e-02],\n",
       "       [ 7.10629183e-01,  5.04993836e-01],\n",
       "       [-7.09164081e-01,  5.02913693e-01],\n",
       "       [-2.85899472e-01,  8.17385082e-02],\n",
       "       [-6.13332898e-01,  3.76177243e-01],\n",
       "       [ 1.12014466e+00,  1.25472407e+00],\n",
       "       [-3.00241416e-01,  9.01449080e-02],\n",
       "       [-7.52547464e-01,  5.66327685e-01],\n",
       "       [-2.38750526e-01,  5.70018134e-02],\n",
       "       [-1.02286712e+00,  1.04625714e+00],\n",
       "       [-1.47501619e+00,  2.17567275e+00],\n",
       "       [-6.26464933e-01,  3.92458312e-01],\n",
       "       [-1.89618493e+00,  3.59551727e+00],\n",
       "       [ 1.05214185e+00,  1.10700247e+00],\n",
       "       [ 1.46629590e+00,  2.15002367e+00],\n",
       "       [-4.16867394e-01,  1.73778424e-01],\n",
       "       [-1.03917274e+00,  1.07987998e+00],\n",
       "       [-1.01621309e+00,  1.03268905e+00],\n",
       "       [-9.50976834e-01,  9.04356939e-01],\n",
       "       [-1.33266774e+00,  1.77600331e+00],\n",
       "       [ 1.01727219e+00,  1.03484271e+00],\n",
       "       [-2.27986909e-01,  5.19780306e-02],\n",
       "       [-6.34420215e-01,  4.02489009e-01],\n",
       "       [ 5.85551337e-01,  3.42870369e-01],\n",
       "       [ 1.56597462e+00,  2.45227651e+00],\n",
       "       [-9.50200864e-01,  9.02881681e-01],\n",
       "       [-4.95877952e-01,  2.45894943e-01],\n",
       "       [ 1.16862784e-01,  1.36569102e-02],\n",
       "       [ 1.99273552e+00,  3.97099486e+00],\n",
       "       [-5.58131439e-01,  3.11510704e-01],\n",
       "       [ 2.99351142e-01,  8.96111061e-02],\n",
       "       [-1.55370873e+00,  2.41401083e+00],\n",
       "       [ 1.89708261e+00,  3.59892241e+00],\n",
       "       [-1.40844732e-01,  1.98372386e-02],\n",
       "       [ 8.24825804e-01,  6.80337607e-01],\n",
       "       [-2.32958326e-01,  5.42695817e-02],\n",
       "       [-1.39268324e-01,  1.93956660e-02],\n",
       "       [-3.85070305e-01,  1.48279140e-01],\n",
       "       [ 1.34748308e+00,  1.81571065e+00],\n",
       "       [ 1.13867513e+00,  1.29658105e+00],\n",
       "       [-7.65494752e-01,  5.85982216e-01],\n",
       "       [-8.59486041e-01,  7.38716255e-01],\n",
       "       [ 6.37808672e-01,  4.06799903e-01],\n",
       "       [-1.26512916e+00,  1.60055179e+00],\n",
       "       [ 1.40501246e-01,  1.97406001e-02],\n",
       "       [-8.38272437e-01,  7.02700679e-01],\n",
       "       [-4.83582844e-01,  2.33852367e-01],\n",
       "       [-3.28150495e-01,  1.07682747e-01],\n",
       "       [-2.89562878e-01,  8.38466603e-02],\n",
       "       [-4.55866984e-03,  2.07814707e-05],\n",
       "       [-1.13367926e+00,  1.28522866e+00],\n",
       "       [ 1.13670960e+00,  1.29210870e+00],\n",
       "       [ 8.47732061e-01,  7.18649647e-01],\n",
       "       [-1.44131553e+00,  2.07739045e+00],\n",
       "       [-8.22101221e-01,  6.75850417e-01],\n",
       "       [-2.35613427e-01,  5.55136870e-02],\n",
       "       [-9.96793810e-01,  9.93597901e-01],\n",
       "       [-1.00009485e+00,  1.00018970e+00],\n",
       "       [ 7.65548042e-01,  5.86063804e-01],\n",
       "       [ 1.43716264e-01,  2.06543647e-02],\n",
       "       [ 2.88659761e-01,  8.33244574e-02],\n",
       "       [-6.86957855e-01,  4.71911094e-01],\n",
       "       [-2.41437866e+00,  5.82922432e+00],\n",
       "       [ 4.25677395e-01,  1.81201244e-01],\n",
       "       [-6.26288593e-01,  3.92237402e-01],\n",
       "       [ 2.51234278e+00,  6.31186623e+00],\n",
       "       [-3.61811415e-01,  1.30907500e-01],\n",
       "       [ 1.45417353e+00,  2.11462067e+00],\n",
       "       [-3.06742734e-01,  9.40911047e-02],\n",
       "       [ 1.50749642e+00,  2.27254546e+00],\n",
       "       [ 3.22052159e-01,  1.03717593e-01],\n",
       "       [ 1.45173988e-01,  2.10754869e-02],\n",
       "       [ 6.99824519e-01,  4.89754358e-01],\n",
       "       [-1.71505762e+00,  2.94142263e+00],\n",
       "       [ 2.50770716e-01,  6.28859518e-02],\n",
       "       [ 1.75304508e-01,  3.07316704e-02],\n",
       "       [ 2.35150542e+00,  5.52957775e+00],\n",
       "       [-6.77344094e-01,  4.58795022e-01],\n",
       "       [ 1.42527381e+00,  2.03140543e+00],\n",
       "       [ 3.68253535e-01,  1.35610666e-01],\n",
       "       [ 6.23632999e-02,  3.88918117e-03],\n",
       "       [-7.91589220e-01,  6.26613494e-01],\n",
       "       [-1.02652870e+00,  1.05376118e+00],\n",
       "       [-5.25055393e-01,  2.75683166e-01],\n",
       "       [ 2.97020596e-01,  8.82212345e-02],\n",
       "       [-1.12328902e+00,  1.26177821e+00],\n",
       "       [ 2.45507483e-01,  6.02739243e-02],\n",
       "       [-2.28631769e-01,  5.22724856e-02],\n",
       "       [-1.20225087e+00,  1.44540716e+00],\n",
       "       [ 2.58656858e-01,  6.69033700e-02],\n",
       "       [-4.90943502e-01,  2.41025522e-01],\n",
       "       [-9.69813187e-01,  9.40537617e-01],\n",
       "       [ 1.06692560e+00,  1.13833023e+00],\n",
       "       [ 2.86090107e-01,  8.18475491e-02],\n",
       "       [-6.75836519e-01,  4.56755000e-01],\n",
       "       [-7.57625735e-01,  5.73996754e-01],\n",
       "       [ 4.59448629e-01,  2.11093043e-01],\n",
       "       [ 2.69902203e-01,  7.28471989e-02],\n",
       "       [-2.22708999e-01,  4.95992984e-02],\n",
       "       [ 5.96883172e-02,  3.56269521e-03],\n",
       "       [ 3.13676190e-01,  9.83927521e-02],\n",
       "       [ 5.04979936e-01,  2.55004736e-01],\n",
       "       [-2.92096804e-01,  8.53205429e-02],\n",
       "       [ 1.23109433e+00,  1.51559325e+00],\n",
       "       [ 1.93735135e+00,  3.75333024e+00],\n",
       "       [-1.90975218e+00,  3.64715339e+00],\n",
       "       [ 6.77472596e-01,  4.58969118e-01],\n",
       "       [-5.23808384e-01,  2.74375223e-01],\n",
       "       [-1.29804422e-01,  1.68491880e-02],\n",
       "       [ 1.99221854e-01,  3.96893469e-02],\n",
       "       [ 3.27572494e-01,  1.07303739e-01],\n",
       "       [ 8.18684998e-01,  6.70245125e-01],\n",
       "       [-4.06407480e-01,  1.65167039e-01],\n",
       "       [-6.25697775e-01,  3.91497706e-01],\n",
       "       [ 5.63149730e-01,  3.17137618e-01],\n",
       "       [-1.09551212e+00,  1.20014681e+00],\n",
       "       [ 6.33788925e-01,  4.01688402e-01],\n",
       "       [-9.28682670e-01,  8.62451502e-01],\n",
       "       [ 1.96833805e+00,  3.87435469e+00],\n",
       "       [ 8.90431467e-01,  7.92868198e-01],\n",
       "       [ 7.22670004e-01,  5.22251935e-01],\n",
       "       [-8.48193425e-01,  7.19432086e-01],\n",
       "       [-5.87401287e-01,  3.45040272e-01],\n",
       "       [ 6.96369904e-02,  4.84931044e-03],\n",
       "       [-2.02942787e-01,  4.11857747e-02],\n",
       "       [-1.14751626e+00,  1.31679356e+00],\n",
       "       [-9.45647284e-01,  8.94248785e-01],\n",
       "       [ 4.85275017e-01,  2.35491843e-01],\n",
       "       [ 6.48495328e-01,  4.20546191e-01],\n",
       "       [ 4.19738588e-01,  1.76180482e-01],\n",
       "       [ 5.78364175e-01,  3.34505119e-01],\n",
       "       [ 2.33047921e-01,  5.43113336e-02],\n",
       "       [-1.58952090e+00,  2.52657669e+00],\n",
       "       [-9.38720077e-01,  8.81195383e-01],\n",
       "       [-9.93581104e-01,  9.87203410e-01],\n",
       "       [-4.17950711e-02,  1.74682797e-03],\n",
       "       [-2.26770967e+00,  5.14250717e+00],\n",
       "       [ 1.43114674e+00,  2.04818100e+00],\n",
       "       [-8.28910390e-01,  6.87092435e-01],\n",
       "       [ 5.36576880e-01,  2.87914749e-01],\n",
       "       [-2.51863859e-01,  6.34354034e-02],\n",
       "       [ 1.04645792e-01,  1.09507417e-02],\n",
       "       [-9.39778472e-01,  8.83183577e-01],\n",
       "       [-1.94233369e+00,  3.77266017e+00],\n",
       "       [ 4.28852119e-01,  1.83914140e-01],\n",
       "       [-1.00537627e+00,  1.01078145e+00],\n",
       "       [ 2.43731679e-01,  5.94051315e-02],\n",
       "       [-3.75468534e-01,  1.40976620e-01],\n",
       "       [ 9.49611306e-01,  9.01761633e-01],\n",
       "       [-9.52963622e-01,  9.08139665e-01],\n",
       "       [-3.24129352e-01,  1.05059837e-01],\n",
       "       [ 1.86141127e-01,  3.46485190e-02],\n",
       "       [-8.77859810e-01,  7.70637846e-01],\n",
       "       [-2.62671793e-01,  6.89964708e-02],\n",
       "       [-6.96125864e-02,  4.84591219e-03],\n",
       "       [ 1.56146314e+00,  2.43816715e+00],\n",
       "       [-1.73208521e+00,  3.00011917e+00],\n",
       "       [-7.02782668e-01,  4.93903478e-01],\n",
       "       [ 1.25925653e+00,  1.58572700e+00],\n",
       "       [ 2.83293563e-01,  8.02552428e-02],\n",
       "       [ 8.55952053e-01,  7.32653917e-01],\n",
       "       [ 4.48592868e-01,  2.01235562e-01],\n",
       "       [-2.23220727e+00,  4.98274929e+00],\n",
       "       [-1.25873525e+00,  1.58441444e+00],\n",
       "       [ 1.49492607e+00,  2.23480395e+00],\n",
       "       [ 1.46984118e-01,  2.16043309e-02],\n",
       "       [ 4.06113635e-01,  1.64928284e-01],\n",
       "       [ 1.91343457e-01,  3.66123186e-02],\n",
       "       [-8.10131092e-01,  6.56312387e-01],\n",
       "       [-4.85392183e-01,  2.35605571e-01],\n",
       "       [ 1.26985200e+00,  1.61252409e+00],\n",
       "       [ 3.10003514e+00,  9.61021787e+00],\n",
       "       [-7.17170475e-01,  5.14333490e-01],\n",
       "       [-4.12439610e-01,  1.70106432e-01],\n",
       "       [-2.40588471e-01,  5.78828124e-02],\n",
       "       [-5.77728420e-01,  3.33770128e-01],\n",
       "       [ 4.14603592e-04,  1.71896138e-07],\n",
       "       [-2.95408241e+00,  8.72660290e+00],\n",
       "       [-3.02404115e-01,  9.14482487e-02],\n",
       "       [-4.92932831e-02,  2.42982776e-03],\n",
       "       [-4.56810139e-01,  2.08675503e-01],\n",
       "       [-6.61327130e-01,  4.37353572e-01],\n",
       "       [-1.22287628e+00,  1.49542640e+00],\n",
       "       [-1.33129157e+00,  1.77233723e+00],\n",
       "       [-1.76061935e+00,  3.09978050e+00],\n",
       "       [-2.19478854e-01,  4.81709675e-02],\n",
       "       [ 8.88542099e-01,  7.89507062e-01],\n",
       "       [ 3.85161641e-01,  1.48349489e-01],\n",
       "       [ 2.73385142e-01,  7.47394361e-02],\n",
       "       [ 1.49093842e+00,  2.22289738e+00],\n",
       "       [ 5.32707690e-01,  2.83777483e-01],\n",
       "       [ 4.95497173e-01,  2.45517449e-01],\n",
       "       [-2.32985041e+00,  5.42820294e+00],\n",
       "       [-1.42600726e+00,  2.03349670e+00],\n",
       "       [ 8.08319131e-01,  6.53379818e-01],\n",
       "       [ 9.53811567e-01,  9.09756505e-01],\n",
       "       [ 6.10959398e-01,  3.73271386e-01],\n",
       "       [ 7.67169282e-01,  5.88548708e-01],\n",
       "       [-1.45781634e-01,  2.12522847e-02],\n",
       "       [-9.28692222e-01,  8.62469243e-01],\n",
       "       [-8.18715136e-01,  6.70294474e-01],\n",
       "       [-2.27925986e-01,  5.19502552e-02],\n",
       "       [-7.00621484e-01,  4.90870464e-01],\n",
       "       [ 1.58900306e+00,  2.52493074e+00],\n",
       "       [-3.49747137e-01,  1.22323060e-01],\n",
       "       [-5.00057640e-01,  2.50057644e-01],\n",
       "       [-8.65199975e-02,  7.48570996e-03],\n",
       "       [ 1.09349907e+00,  1.19574022e+00],\n",
       "       [ 1.92139674e+00,  3.69176542e+00],\n",
       "       [-1.35629961e+00,  1.83954863e+00],\n",
       "       [ 7.08480402e-01,  5.01944480e-01]])"
      ]
     },
     "execution_count": 33,
     "metadata": {},
     "output_type": "execute_result"
    }
   ],
   "source": [
    "new_data"
   ]
  },
  {
   "cell_type": "code",
   "execution_count": null,
   "metadata": {},
   "outputs": [],
   "source": []
  }
 ],
 "metadata": {
  "kernelspec": {
   "display_name": "Python 3",
   "language": "python",
   "name": "python3"
  },
  "language_info": {
   "codemirror_mode": {
    "name": "ipython",
    "version": 3
   },
   "file_extension": ".py",
   "mimetype": "text/x-python",
   "name": "python",
   "nbconvert_exporter": "python",
   "pygments_lexer": "ipython3",
   "version": "3.8.2"
  }
 },
 "nbformat": 4,
 "nbformat_minor": 4
}
