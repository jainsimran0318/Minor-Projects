{
 "cells": [
  {
   "cell_type": "code",
   "execution_count": 1,
   "metadata": {},
   "outputs": [],
   "source": [
    "from sklearn.datasets import load_digits"
   ]
  },
  {
   "cell_type": "code",
   "execution_count": 2,
   "metadata": {},
   "outputs": [
    {
     "data": {
      "text/plain": [
       "['DESCR', 'data', 'feature_names', 'frame', 'images', 'target', 'target_names']"
      ]
     },
     "execution_count": 2,
     "metadata": {},
     "output_type": "execute_result"
    }
   ],
   "source": [
    "dir(load_digits())"
   ]
  },
  {
   "cell_type": "code",
   "execution_count": 3,
   "metadata": {},
   "outputs": [],
   "source": [
    "data = load_digits().data\n",
    "images = load_digits().images\n",
    "targets = load_digits().target"
   ]
  },
  {
   "cell_type": "code",
   "execution_count": 4,
   "metadata": {},
   "outputs": [
    {
     "data": {
      "text/plain": [
       "(1797, 64)"
      ]
     },
     "execution_count": 4,
     "metadata": {},
     "output_type": "execute_result"
    }
   ],
   "source": [
    "data.shape"
   ]
  },
  {
   "cell_type": "code",
   "execution_count": 5,
   "metadata": {},
   "outputs": [
    {
     "data": {
      "text/plain": [
       "(1797, 8, 8)"
      ]
     },
     "execution_count": 5,
     "metadata": {},
     "output_type": "execute_result"
    }
   ],
   "source": [
    "images.shape"
   ]
  },
  {
   "cell_type": "code",
   "execution_count": 6,
   "metadata": {},
   "outputs": [
    {
     "data": {
      "text/plain": [
       "(1797,)"
      ]
     },
     "execution_count": 6,
     "metadata": {},
     "output_type": "execute_result"
    }
   ],
   "source": [
    "targets.shape"
   ]
  },
  {
   "cell_type": "code",
   "execution_count": 7,
   "metadata": {},
   "outputs": [
    {
     "data": {
      "text/plain": [
       "array([[ 0.,  0.,  5., 13.,  9.,  1.,  0.,  0.],\n",
       "       [ 0.,  0., 13., 15., 10., 15.,  5.,  0.],\n",
       "       [ 0.,  3., 15.,  2.,  0., 11.,  8.,  0.],\n",
       "       [ 0.,  4., 12.,  0.,  0.,  8.,  8.,  0.],\n",
       "       [ 0.,  5.,  8.,  0.,  0.,  9.,  8.,  0.],\n",
       "       [ 0.,  4., 11.,  0.,  1., 12.,  7.,  0.],\n",
       "       [ 0.,  2., 14.,  5., 10., 12.,  0.,  0.],\n",
       "       [ 0.,  0.,  6., 13., 10.,  0.,  0.,  0.]])"
      ]
     },
     "execution_count": 7,
     "metadata": {},
     "output_type": "execute_result"
    }
   ],
   "source": [
    "images[0]"
   ]
  },
  {
   "cell_type": "code",
   "execution_count": 8,
   "metadata": {},
   "outputs": [
    {
     "data": {
      "text/plain": [
       "array([[ 0.,  0.,  3., 10., 13.,  7.,  0.,  0.,  0.,  1., 14., 13., 15.,\n",
       "        14.,  0.,  0.,  0.,  0., 15.,  5., 14.,  9.,  0.,  0.,  0.,  0.,\n",
       "         0., 10., 16.,  5.,  0.,  0.,  0.,  0.,  0.,  7., 14., 16.,  3.,\n",
       "         0.,  0.,  4.,  5.,  0.,  2., 16.,  4.,  0.,  0., 10., 16., 10.,\n",
       "         8., 16.,  3.,  0.,  0.,  0.,  5., 12., 14.,  8.,  0.,  0.]])"
      ]
     },
     "execution_count": 8,
     "metadata": {},
     "output_type": "execute_result"
    }
   ],
   "source": [
    "images[445].reshape(-1,64)"
   ]
  },
  {
   "cell_type": "code",
   "execution_count": 9,
   "metadata": {},
   "outputs": [
    {
     "data": {
      "text/plain": [
       "<matplotlib.image.AxesImage at 0x249b1f3a3d0>"
      ]
     },
     "execution_count": 9,
     "metadata": {},
     "output_type": "execute_result"
    },
    {
     "data": {
      "image/png": "[encoded data removed]",
      "text/plain": [
       "<Figure size 432x288 with 1 Axes>"
      ]
     },
     "metadata": {
      "needs_background": "light"
     },
     "output_type": "display_data"
    }
   ],
   "source": [
    "import matplotlib.pyplot as plt\n",
    "plt.imshow( images[445] )"
   ]
  },
  {
   "cell_type": "code",
   "execution_count": 10,
   "metadata": {},
   "outputs": [
    {
     "data": {
      "text/plain": [
       "<matplotlib.image.AxesImage at 0x249b2fafbb0>"
      ]
     },
     "execution_count": 10,
     "metadata": {},
     "output_type": "execute_result"
    },
    {
     "data": {
      "image/png": "[encoded data removed]",
      "text/plain": [
       "<Figure size 432x288 with 1 Axes>"
      ]
     },
     "metadata": {
      "needs_background": "light"
     },
     "output_type": "display_data"
    }
   ],
   "source": [
    "plt.imshow( images[4] )"
   ]
  },
  {
   "cell_type": "code",
   "execution_count": 11,
   "metadata": {},
   "outputs": [
    {
     "name": "stdout",
     "output_type": "stream",
     "text": [
      "8\n"
     ]
    },
    {
     "data": {
      "image/png": "[encoded data removed]",
      "text/plain": [
       "<Figure size 432x288 with 1 Axes>"
      ]
     },
     "metadata": {
      "needs_background": "light"
     },
     "output_type": "display_data"
    }
   ],
   "source": [
    "index=378\n",
    "plt.imshow( images[ index ], cmap=\"gray\")\n",
    "print(targets[index])"
   ]
  },
  {
   "cell_type": "code",
   "execution_count": 12,
   "metadata": {},
   "outputs": [],
   "source": [
    "X = images.reshape(-1, 64)\n",
    "y = targets"
   ]
  },
  {
   "cell_type": "code",
   "execution_count": 13,
   "metadata": {},
   "outputs": [
    {
     "data": {
      "text/plain": [
       "array([ 0.,  0.,  3., 10., 13.,  7.,  0.,  0.,  0.,  1., 14., 13., 15.,\n",
       "       14.,  0.,  0.,  0.,  0., 15.,  5., 14.,  9.,  0.,  0.,  0.,  0.,\n",
       "        0., 10., 16.,  5.,  0.,  0.,  0.,  0.,  0.,  7., 14., 16.,  3.,\n",
       "        0.,  0.,  4.,  5.,  0.,  2., 16.,  4.,  0.,  0., 10., 16., 10.,\n",
       "        8., 16.,  3.,  0.,  0.,  0.,  5., 12., 14.,  8.,  0.,  0.])"
      ]
     },
     "execution_count": 13,
     "metadata": {},
     "output_type": "execute_result"
    }
   ],
   "source": [
    "X[445]"
   ]
  },
  {
   "cell_type": "code",
   "execution_count": 14,
   "metadata": {},
   "outputs": [],
   "source": [
    "from sklearn.model_selection import train_test_split\n",
    "X_train, X_test, y_train, y_test = train_test_split(X, y, train_size=.3, random_state=7)"
   ]
  },
  {
   "cell_type": "code",
   "execution_count": 15,
   "metadata": {},
   "outputs": [],
   "source": [
    "from sklearn.neighbors import KNeighborsClassifier\n",
    "model = KNeighborsClassifier(n_neighbors = 5)"
   ]
  },
  {
   "cell_type": "code",
   "execution_count": 16,
   "metadata": {},
   "outputs": [
    {
     "data": {
      "text/plain": [
       "KNeighborsClassifier()"
      ]
     },
     "execution_count": 16,
     "metadata": {},
     "output_type": "execute_result"
    }
   ],
   "source": [
    "model.fit(X_train, y_train)"
   ]
  },
  {
   "cell_type": "code",
   "execution_count": 17,
   "metadata": {},
   "outputs": [
    {
     "data": {
      "text/plain": [
       "array([6, 0, 5, 3, 2, 9, 0, 4, 1, 0, 1, 8, 2, 5, 2, 8, 1, 8, 9, 1])"
      ]
     },
     "execution_count": 17,
     "metadata": {},
     "output_type": "execute_result"
    }
   ],
   "source": [
    "model.predict(X_test[:20])"
   ]
  },
  {
   "cell_type": "code",
   "execution_count": 18,
   "metadata": {},
   "outputs": [
    {
     "data": {
      "text/plain": [
       "array([6, 0, 5, 9, 2, 9, 0, 4, 1, 0, 1, 8, 2, 5, 2, 8, 1, 8, 9, 1])"
      ]
     },
     "execution_count": 18,
     "metadata": {},
     "output_type": "execute_result"
    }
   ],
   "source": [
    "y_test[:20]"
   ]
  },
  {
   "cell_type": "code",
   "execution_count": 19,
   "metadata": {},
   "outputs": [
    {
     "data": {
      "text/plain": [
       "0.9713831478537361"
      ]
     },
     "execution_count": 19,
     "metadata": {},
     "output_type": "execute_result"
    }
   ],
   "source": [
    "model.score(X_test, y_test)"
   ]
  },
  {
   "cell_type": "code",
   "execution_count": 20,
   "metadata": {},
   "outputs": [],
   "source": [
    "test_sizes = [.1, .2, .3, .4, .5, .6, .7, .8, .9]\n",
    "score_list = []\n",
    "value_of_k = 5\n",
    "\n",
    "for size in test_sizes:\n",
    "    \n",
    "    #splitting data\n",
    "    X_train, X_test, y_train, y_test = train_test_split(X, y, test_size=size, random_state=7)\n",
    "    \n",
    "    #creating model\n",
    "    model = KNeighborsClassifier(value_of_k)\n",
    "    \n",
    "    #fitting of train\n",
    "    model.fit(X_train, y_train)\n",
    "    \n",
    "    #take out score\n",
    "    score = model.score(X_test, y_test)\n",
    "    \n",
    "    #append to score list\n",
    "    score_list.append(score)\n",
    "    "
   ]
  },
  {
   "cell_type": "code",
   "execution_count": 21,
   "metadata": {},
   "outputs": [
    {
     "data": {
      "text/plain": [
       "[0.9555555555555556,\n",
       " 0.975,\n",
       " 0.9777777777777777,\n",
       " 0.9791376912378303,\n",
       " 0.978865406006674,\n",
       " 0.9786839666357738,\n",
       " 0.9713831478537361,\n",
       " 0.9513212795549374,\n",
       " 0.9128553770086527]"
      ]
     },
     "execution_count": 21,
     "metadata": {},
     "output_type": "execute_result"
    }
   ],
   "source": [
    "score_list"
   ]
  },
  {
   "cell_type": "code",
   "execution_count": 22,
   "metadata": {},
   "outputs": [
    {
     "data": {
      "text/plain": [
       "[<matplotlib.lines.Line2D at 0x249b33b1dc0>]"
      ]
     },
     "execution_count": 22,
     "metadata": {},
     "output_type": "execute_result"
    },
    {
     "data": {
      "image/png": "[encoded data removed]",
      "text/plain": [
       "<Figure size 432x288 with 1 Axes>"
      ]
     },
     "metadata": {
      "needs_background": "light"
     },
     "output_type": "display_data"
    }
   ],
   "source": [
    "plt.plot(test_sizes, score_list)"
   ]
  },
  {
   "cell_type": "code",
   "execution_count": 23,
   "metadata": {},
   "outputs": [
    {
     "data": {
      "text/plain": [
       "[<matplotlib.lines.Line2D at 0x249b302a040>]"
      ]
     },
     "execution_count": 23,
     "metadata": {},
     "output_type": "execute_result"
    },
    {
     "data": {
      "image/png": "[encoded data removed]",
      "text/plain": [
       "<Figure size 432x288 with 1 Axes>"
      ]
     },
     "metadata": {
      "needs_background": "light"
     },
     "output_type": "display_data"
    }
   ],
   "source": [
    "plt.plot(test_sizes, score_list)"
   ]
  },
  {
   "cell_type": "markdown",
   "metadata": {},
   "source": [
    "# plot scores wrt different value of K in knn(score should be taken with random split of 5data averaged)"
   ]
  },
  {
   "cell_type": "code",
   "execution_count": 24,
   "metadata": {},
   "outputs": [],
   "source": [
    "test_sizes = [.1, .2, .3, .4, .5, .6, .7, .8, .9]\n",
    "mean_score_list = []\n",
    "size = .4\n",
    "\n",
    "for value_of_k in range(1,31):\n",
    "    \n",
    "    score_list = []\n",
    "    for i in range(10):\n",
    "        \n",
    "        #creating model\n",
    "        model = KNeighborsClassifier(value_of_k)\n",
    "    \n",
    "        #splitting data\n",
    "        X_train, X_test, y_train, y_test = train_test_split(X, y, test_size=size, random_state=7)\n",
    "        \n",
    "    \n",
    "        #fitting of train\n",
    "        model.fit(X_train, y_train)\n",
    "    \n",
    "        #take out score\n",
    "        score = model.score(X_test, y_test)\n",
    "    \n",
    "        #append to score list\n",
    "        score_list.append(score)\n",
    "        \n",
    "    mean_score = sum(score_list)/10\n",
    "    mean_score_list.append(mean_score)\n",
    "    "
   ]
  },
  {
   "cell_type": "code",
   "execution_count": 25,
   "metadata": {},
   "outputs": [
    {
     "data": {
      "text/plain": [
       "[<matplotlib.lines.Line2D at 0x249b3400be0>]"
      ]
     },
     "execution_count": 25,
     "metadata": {},
     "output_type": "execute_result"
    },
    {
     "data": {
      "image/png": "[encoded data removed]",
      "text/plain": [
       "<Figure size 432x288 with 1 Axes>"
      ]
     },
     "metadata": {
      "needs_background": "light"
     },
     "output_type": "display_data"
    }
   ],
   "source": [
    "plt.plot(range(1,31), mean_score_list)"
   ]
  },
  {
   "cell_type": "code",
   "execution_count": 26,
   "metadata": {},
   "outputs": [],
   "source": [
    "from sklearn.metrics import confusion_matrix\n",
    "c_matrix = confusion_matrix(y_test, model.predict(X_test))"
   ]
  },
  {
   "cell_type": "code",
   "execution_count": 27,
   "metadata": {},
   "outputs": [
    {
     "data": {
      "text/plain": [
       "array([[70,  0,  0,  0,  1,  0,  0,  0,  0,  0],\n",
       "       [ 0, 71,  2,  0,  0,  0,  0,  0,  0,  0],\n",
       "       [ 0,  0, 69,  0,  0,  0,  0,  1,  3,  0],\n",
       "       [ 0,  0,  0, 70,  0,  1,  0,  1,  0,  0],\n",
       "       [ 0,  0,  0,  0, 72,  0,  0,  2,  0,  0],\n",
       "       [ 0,  0,  0,  0,  0, 59,  0,  0,  0,  1],\n",
       "       [ 0,  1,  0,  0,  0,  0, 69,  0,  0,  0],\n",
       "       [ 0,  0,  0,  0,  0,  0,  0, 70,  0,  0],\n",
       "       [ 0,  7,  3,  3,  0,  2,  1,  0, 68,  0],\n",
       "       [ 0,  1,  0,  0,  0,  2,  0,  4,  1, 64]], dtype=int64)"
      ]
     },
     "execution_count": 27,
     "metadata": {},
     "output_type": "execute_result"
    }
   ],
   "source": [
    "c_matrix"
   ]
  },
  {
   "cell_type": "code",
   "execution_count": 28,
   "metadata": {},
   "outputs": [
    {
     "data": {
      "text/plain": [
       "array([[ 0.,  0.,  0.,  1., 12., 16., 14.,  0.,  0.,  0.,  3., 14., 13.,\n",
       "        15., 13.,  0.,  0.,  4., 16., 15., 13., 16.,  4.,  0.,  0.,  3.,\n",
       "        16., 16., 16., 16.,  3.,  0.,  0.,  0.,  7.,  7., 14., 14.,  0.,\n",
       "         0.,  0.,  0.,  0.,  0., 12., 11.,  0.,  0.,  0.,  0.,  0.,  0.,\n",
       "        13., 10.,  0.,  0.,  0.,  0.,  0.,  0., 13., 12.,  0.,  0.],\n",
       "       [ 0.,  0.,  1.,  8., 13.,  1.,  0.,  0.,  0.,  0.,  6., 16., 16.,\n",
       "         9.,  0.,  0.,  0.,  1., 15., 16., 16., 10.,  0.,  0.,  0.,  6.,\n",
       "        15., 14.,  6.,  0.,  0.,  0.,  0.,  3.,  7.,  6.,  6.,  0.,  0.,\n",
       "         0.,  0.,  1., 10.,  2., 11.,  0.,  0.,  0.,  0.,  0.,  4., 11.,\n",
       "        13.,  2.,  0.,  0.,  0.,  0.,  0.,  5., 12.,  5.,  0.,  0.],\n",
       "       [ 0.,  0.,  2.,  8.,  7.,  0.,  0.,  0.,  0.,  0.,  6., 15., 16.,\n",
       "         2.,  0.,  0.,  0.,  6., 15., 11., 16.,  4.,  0.,  0.,  0.,  5.,\n",
       "        16., 10., 16.,  1.,  0.,  0.,  0.,  2., 15., 16., 13.,  0.,  0.,\n",
       "         0.,  0.,  0.,  2., 16., 12.,  9.,  3.,  0.,  0.,  0.,  4., 14.,\n",
       "         0., 12., 14.,  1.,  0.,  0.,  1., 12., 10.,  7.,  0.,  0.],\n",
       "       [ 0.,  0.,  0., 11., 16.,  8.,  0.,  0.,  0.,  0.,  6., 16., 13.,\n",
       "         3.,  0.,  0.,  0.,  0.,  8., 16.,  8.,  0.,  0.,  0.,  0.,  0.,\n",
       "        13., 16.,  2.,  0.,  0.,  0.,  0.,  0., 15., 16.,  5.,  0.,  0.,\n",
       "         0.,  0.,  2., 16., 16., 16.,  5.,  0.,  0.,  0.,  1., 10., 16.,\n",
       "        16., 14.,  0.,  0.,  0.,  0.,  0., 12., 16., 15.,  0.,  0.],\n",
       "       [ 0.,  0.,  2., 15., 15.,  3.,  0.,  0.,  0.,  3., 12., 15., 10.,\n",
       "        13.,  0.,  0.,  0.,  3., 16., 14., 11., 14.,  0.,  0.,  0.,  0.,\n",
       "         7., 16., 16.,  9.,  0.,  0.,  0.,  0.,  5., 16., 13.,  0.,  0.,\n",
       "         0.,  0.,  0., 13., 16., 11.,  0.,  0.,  0.,  0.,  0., 13., 16.,\n",
       "        15.,  0.,  0.,  0.,  0.,  0.,  2., 15., 10.,  0.,  0.,  0.],\n",
       "       [ 0.,  0.,  5., 12.,  8.,  0.,  1.,  0.,  0.,  0., 11., 16.,  5.,\n",
       "        13.,  6.,  0.,  0.,  0.,  2., 15., 16., 12.,  1.,  0.,  0.,  0.,\n",
       "         0., 10., 16.,  6.,  0.,  0.,  0.,  0.,  1., 15., 16.,  7.,  0.,\n",
       "         0.,  0.,  0.,  8., 16., 16., 11.,  0.,  0.,  0.,  0., 11., 16.,\n",
       "        16.,  9.,  0.,  0.,  0.,  0.,  6., 12., 12.,  3.,  0.,  0.],\n",
       "       [ 0.,  0.,  2., 13.,  4.,  0.,  0.,  0.,  0.,  0.,  8., 14., 11.,\n",
       "         0.,  0.,  0.,  0.,  0., 10.,  6., 14.,  5.,  2.,  0.,  0.,  0.,\n",
       "         2., 14., 12., 14.,  0.,  0.,  0.,  0.,  1., 15., 13.,  2.,  0.,\n",
       "         0.,  0.,  0., 11., 13., 14.,  1.,  0.,  0.,  0.,  0., 13.,  8.,\n",
       "        10.,  4.,  0.,  0.,  0.,  0.,  2., 11., 16.,  7.,  0.,  0.],\n",
       "       [ 0.,  0.,  3.,  6., 14.,  5.,  0.,  0.,  0.,  0.,  7., 15., 15.,\n",
       "        13.,  0.,  0.,  0.,  0.,  3., 14., 13., 12.,  0.,  0.,  0.,  0.,\n",
       "         0., 16., 13.,  1.,  0.,  0.,  0.,  0.,  2., 16.,  8.,  0.,  0.,\n",
       "         0.,  0.,  0., 10.,  9., 14.,  0.,  0.,  0.,  0.,  0., 12.,  4.,\n",
       "        15.,  2.,  0.,  0.,  0.,  0.,  4., 15., 14.,  0.,  0.,  0.],\n",
       "       [ 0.,  0.,  5., 14., 15.,  4.,  0.,  0.,  0.,  0.,  8., 16., 16.,\n",
       "        14.,  0.,  0.,  0.,  0.,  5., 16., 16.,  9.,  0.,  0.,  0.,  0.,\n",
       "         0., 15., 16.,  1.,  0.,  0.,  0.,  0.,  1., 16., 13.,  0.,  0.,\n",
       "         0.,  0.,  0., 11., 15., 14.,  5.,  0.,  0.,  0.,  0., 12., 12.,\n",
       "         8., 15.,  1.,  0.,  0.,  0.,  5., 16., 16., 16.,  2.,  0.]])"
      ]
     },
     "execution_count": 28,
     "metadata": {},
     "output_type": "execute_result"
    }
   ],
   "source": [
    "wrong_prediction_of_1_X_test = X_test[ (y_test != model.predict(X_test)) & (model.predict(X_test)==1)]\n",
    "wrong_prediction_of_1_X_test"
   ]
  },
  {
   "cell_type": "code",
   "execution_count": 29,
   "metadata": {},
   "outputs": [],
   "source": [
    "wrong_prediction_of_1_X_test = X_test[ (y_test != model.predict(X_test)) & (model.predict(X_test)==1)]\n",
    "wrong_prediction_of_1_X_test_image = wrong_prediction_of_1_X_test.reshape(-1,8,8)"
   ]
  },
  {
   "cell_type": "code",
   "execution_count": 30,
   "metadata": {},
   "outputs": [
    {
     "data": {
      "text/plain": [
       "(9, 8, 8)"
      ]
     },
     "execution_count": 30,
     "metadata": {},
     "output_type": "execute_result"
    }
   ],
   "source": [
    "wrong_prediction_of_1_X_test_image.shape"
   ]
  },
  {
   "cell_type": "code",
   "execution_count": 31,
   "metadata": {},
   "outputs": [
    {
     "data": {
      "text/plain": [
       "<matplotlib.image.AxesImage at 0x249b3466eb0>"
      ]
     },
     "execution_count": 31,
     "metadata": {},
     "output_type": "execute_result"
    },
    {
     "data": {
      "image/png": "[encoded data removed]",
      "text/plain": [
       "<Figure size 432x288 with 1 Axes>"
      ]
     },
     "metadata": {
      "needs_background": "light"
     },
     "output_type": "display_data"
    }
   ],
   "source": [
    "plt.imshow(wrong_prediction_of_1_X_test_image[3])"
   ]
  },
  {
   "cell_type": "code",
   "execution_count": 32,
   "metadata": {},
   "outputs": [
    {
     "data": {
      "text/plain": [
       "<matplotlib.image.AxesImage at 0x249b34c7370>"
      ]
     },
     "execution_count": 32,
     "metadata": {},
     "output_type": "execute_result"
    },
    {
     "data": {
      "image/png": "[encoded data removed]",
      "text/plain": [
       "<Figure size 432x288 with 1 Axes>"
      ]
     },
     "metadata": {
      "needs_background": "light"
     },
     "output_type": "display_data"
    }
   ],
   "source": [
    "plt.imshow(wrong_prediction_of_1_X_test_image[0])"
   ]
  },
  {
   "cell_type": "code",
   "execution_count": null,
   "metadata": {},
   "outputs": [],
   "source": []
  }
 ],
 "metadata": {
  "kernelspec": {
   "display_name": "Python 3",
   "language": "python",
   "name": "python3"
  },
  "language_info": {
   "codemirror_mode": {
    "name": "ipython",
    "version": 3
   },
   "file_extension": ".py",
   "mimetype": "text/x-python",
   "name": "python",
   "nbconvert_exporter": "python",
   "pygments_lexer": "ipython3",
   "version": "3.8.2"
  }
 },
 "nbformat": 4,
 "nbformat_minor": 4
}
